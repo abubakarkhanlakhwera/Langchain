{
  "nbformat": 4,
  "nbformat_minor": 0,
  "metadata": {
    "colab": {
      "provenance": [],
      "mount_file_id": "1ByWz-iH2iVxJtGSjn39Q0KIfFzOd2KIj",
      "authorship_tag": "ABX9TyOQjKHsUH+/5t+0CPNBhXQz",
      "include_colab_link": true
    },
    "kernelspec": {
      "name": "python3",
      "display_name": "Python 3"
    },
    "language_info": {
      "name": "python"
    }
  },
  "cells": [
    {
      "cell_type": "markdown",
      "metadata": {
        "id": "view-in-github",
        "colab_type": "text"
      },
      "source": [
        "<a href=\"https://colab.research.google.com/github/abubakarkhanlakhwera/Langchain/blob/main/vector_db/vector_db.ipynb\" target=\"_parent\"><img src=\"https://colab.research.google.com/assets/colab-badge.svg\" alt=\"Open In Colab\"/></a>"
      ]
    },
    {
      "cell_type": "code",
      "execution_count": 4,
      "metadata": {
        "colab": {
          "base_uri": "https://localhost:8080/"
        },
        "id": "eYwcAC60vn-q",
        "outputId": "4b429f54-0849-4cf0-bd17-9f3e3fed9478"
      },
      "outputs": [
        {
          "output_type": "stream",
          "name": "stdout",
          "text": [
            "\u001b[2K   \u001b[90m━━━━━━━━━━━━━━━━━━━━━━━━━━━━━━━━━━━━━━━━\u001b[0m \u001b[32m664.8/664.8 MB\u001b[0m \u001b[31m1.1 MB/s\u001b[0m eta \u001b[36m0:00:00\u001b[0m\n",
            "\u001b[2K   \u001b[90m━━━━━━━━━━━━━━━━━━━━━━━━━━━━━━━━━━━━━━━━\u001b[0m \u001b[32m211.5/211.5 MB\u001b[0m \u001b[31m6.0 MB/s\u001b[0m eta \u001b[36m0:00:00\u001b[0m\n",
            "\u001b[2K   \u001b[90m━━━━━━━━━━━━━━━━━━━━━━━━━━━━━━━━━━━━━━━━\u001b[0m \u001b[32m56.3/56.3 MB\u001b[0m \u001b[31m14.3 MB/s\u001b[0m eta \u001b[36m0:00:00\u001b[0m\n",
            "\u001b[2K   \u001b[90m━━━━━━━━━━━━━━━━━━━━━━━━━━━━━━━━━━━━━━━━\u001b[0m \u001b[32m127.9/127.9 MB\u001b[0m \u001b[31m7.8 MB/s\u001b[0m eta \u001b[36m0:00:00\u001b[0m\n",
            "\u001b[2K   \u001b[90m━━━━━━━━━━━━━━━━━━━━━━━━━━━━━━━━━━━━━━━━\u001b[0m \u001b[32m207.5/207.5 MB\u001b[0m \u001b[31m5.0 MB/s\u001b[0m eta \u001b[36m0:00:00\u001b[0m\n",
            "\u001b[2K   \u001b[90m━━━━━━━━━━━━━━━━━━━━━━━━━━━━━━━━━━━━━━━━\u001b[0m \u001b[32m21.1/21.1 MB\u001b[0m \u001b[31m35.0 MB/s\u001b[0m eta \u001b[36m0:00:00\u001b[0m\n",
            "\u001b[?25h"
          ]
        }
      ],
      "source": [
        "!pip install --quiet langchain langchain_community langchain_qdrant qdrant_client langchain_huggingface pypdf openai langchain_core"
      ]
    },
    {
      "cell_type": "code",
      "source": [
        "from langchain.document_loaders import PyPDFLoader\n",
        "from langchain_text_splitters import RecursiveCharacterTextSplitter\n",
        "from langchain.embeddings import HuggingFaceEmbeddings\n",
        "from langchain_qdrant import QdrantVectorStore\n",
        "from qdrant_client import QdrantClient\n",
        "from langchain_core.documents import Document\n",
        "import openai\n",
        "import os"
      ],
      "metadata": {
        "id": "RPO_JO7rx8Wh"
      },
      "execution_count": 6,
      "outputs": []
    },
    {
      "cell_type": "code",
      "source": [
        "loader  = PyPDFLoader(\"/content/WISEWORK AI AGENT PROJECT OVERVIEW.pdf\")\n",
        "documents = loader.load()"
      ],
      "metadata": {
        "id": "ekefdNtA4_0z"
      },
      "execution_count": 8,
      "outputs": []
    },
    {
      "cell_type": "code",
      "source": [
        "len(documents)"
      ],
      "metadata": {
        "colab": {
          "base_uri": "https://localhost:8080/"
        },
        "id": "nxw1wuEo5Umr",
        "outputId": "b1943649-d8b1-4ed2-c017-5e0b2aef4369"
      },
      "execution_count": 10,
      "outputs": [
        {
          "output_type": "execute_result",
          "data": {
            "text/plain": [
              "4"
            ]
          },
          "metadata": {},
          "execution_count": 10
        }
      ]
    },
    {
      "cell_type": "code",
      "source": [
        "text_splitter = RecursiveCharacterTextSplitter(chunk_size=50, chunk_overlap=10)\n",
        "pages = text_splitter.split_documents(documents)"
      ],
      "metadata": {
        "id": "4TeMKCc75Yf7"
      },
      "execution_count": 39,
      "outputs": []
    },
    {
      "cell_type": "code",
      "source": [
        "len(pages)"
      ],
      "metadata": {
        "colab": {
          "base_uri": "https://localhost:8080/"
        },
        "id": "qDYMoyBO5nlr",
        "outputId": "2229fc1f-3daf-4fbb-d6a0-768c043354bc"
      },
      "execution_count": 40,
      "outputs": [
        {
          "output_type": "execute_result",
          "data": {
            "text/plain": [
              "139"
            ]
          },
          "metadata": {},
          "execution_count": 40
        }
      ]
    },
    {
      "cell_type": "code",
      "source": [
        "embed_model = HuggingFaceEmbeddings(model_name=\"BAAI/bge-small-en-v1.5\")"
      ],
      "metadata": {
        "id": "HbuKKBvA5prK"
      },
      "execution_count": 41,
      "outputs": []
    },
    {
      "cell_type": "code",
      "source": [
        "from datetime import datetime"
      ],
      "metadata": {
        "id": "AJfgrLQiC3Kd"
      },
      "execution_count": 50,
      "outputs": []
    },
    {
      "cell_type": "code",
      "source": [
        "now = datetime.now()\n",
        "\n",
        "# Extract only the date\n",
        "current_date = now.date()"
      ],
      "metadata": {
        "id": "deRFytU7DHG8"
      },
      "execution_count": 51,
      "outputs": []
    },
    {
      "cell_type": "code",
      "source": [
        "doc_list=[]\n",
        "for page in pages:\n",
        "  pg_split= text_splitter.split_text(page.page_content)\n",
        "  for pg_sub_split in pg_split:\n",
        "    metadata = {'source':'AI policy','page_no':page.metadata['page']+1,'abubakar':'lakhwera','date':datetime.now().isoformat()}\n",
        "    doc_string = Document(page_content=pg_sub_split,metadata=metadata)\n",
        "    doc_list.append(doc_string)"
      ],
      "metadata": {
        "id": "kdFS2ra450yd"
      },
      "execution_count": 63,
      "outputs": []
    },
    {
      "cell_type": "code",
      "source": [
        "len(doc_list)"
      ],
      "metadata": {
        "colab": {
          "base_uri": "https://localhost:8080/"
        },
        "id": "7WZ9tn6B6G5M",
        "outputId": "96937334-42f1-48a5-f7f8-87ae5508bc65"
      },
      "execution_count": 64,
      "outputs": [
        {
          "output_type": "execute_result",
          "data": {
            "text/plain": [
              "139"
            ]
          },
          "metadata": {},
          "execution_count": 64
        }
      ]
    },
    {
      "cell_type": "code",
      "source": [
        "doc_list[10]"
      ],
      "metadata": {
        "colab": {
          "base_uri": "https://localhost:8080/"
        },
        "collapsed": true,
        "id": "5KMjh2RF6ZIb",
        "outputId": "2e371b2b-e823-4357-ad56-7d0a2603785e"
      },
      "execution_count": 65,
      "outputs": [
        {
          "output_type": "execute_result",
          "data": {
            "text/plain": [
              "Document(metadata={'source': 'AI policy', 'page_no': 1, 'abubakar': 'lakhwera', 'date': '2025-02-28T15:16:38.665025'}, page_content='to the client explaining Wisework’s services.')"
            ]
          },
          "metadata": {},
          "execution_count": 65
        }
      ]
    },
    {
      "cell_type": "markdown",
      "source": [
        "# **qdrant**"
      ],
      "metadata": {
        "id": "rjaZq3TRKQfC"
      }
    },
    {
      "cell_type": "code",
      "source": [
        "qdrant_url = \"https://bd4e1587-ec02-453f-b686-77a9b8be1b0c.europe-west3-0.qcp.cloud.qdrant.io:6333\"\n",
        "qdrant_api_key = \"_ggh9v-Exxw40Sw0iDpi65Yc3UQ8JeL9fVPznP5NyqPR0-SPU5e _- g\"\n",
        "collection_name = 'AI_policy_new'\n",
        "client = QdrantClient(url=qdrant_url, api_key=qdrant_api_key)\n"
      ],
      "metadata": {
        "id": "zHpwI--Q7Bep"
      },
      "execution_count": 66,
      "outputs": []
    },
    {
      "cell_type": "code",
      "source": [
        "qdrant = QdrantVectorStore.from_documents(\n",
        "    doc_list,\n",
        "    embed_model,\n",
        "    url=qdrant_url,\n",
        "    api_key=qdrant_api_key,\n",
        "    collection_name=collection_name,\n",
        ")"
      ],
      "metadata": {
        "collapsed": true,
        "id": "TLegRrrwFWSz"
      },
      "execution_count": null,
      "outputs": []
    },
    {
      "cell_type": "markdown",
      "source": [
        "# **chroma**"
      ],
      "metadata": {
        "id": "52nTEeyAKV2H"
      }
    },
    {
      "cell_type": "code",
      "source": [
        "!pip install --quiet langchain_chroma chromadb"
      ],
      "metadata": {
        "id": "DuVF2iXxGqOV"
      },
      "execution_count": 68,
      "outputs": []
    },
    {
      "cell_type": "code",
      "source": [
        "from langchain.vectorstores import Chroma\n",
        "vectorstore = Chroma.from_documents(doc_list,embed_model , persist_directory=\"./chroma_db\")\n"
      ],
      "metadata": {
        "id": "CDPrxVRBFm4z"
      },
      "execution_count": 69,
      "outputs": []
    },
    {
      "cell_type": "code",
      "source": [
        "vectorstore.persist()"
      ],
      "metadata": {
        "colab": {
          "base_uri": "https://localhost:8080/"
        },
        "id": "KriI7bdIIMHh",
        "outputId": "98d33eea-d622-4124-c58e-802b56644ad6"
      },
      "execution_count": 70,
      "outputs": [
        {
          "output_type": "stream",
          "name": "stderr",
          "text": [
            "<ipython-input-70-ccfd33473261>:1: LangChainDeprecationWarning: Since Chroma 0.4.x the manual persistence method is no longer supported as docs are automatically persisted.\n",
            "  vectorstore.persist()\n"
          ]
        }
      ]
    },
    {
      "cell_type": "code",
      "source": [
        "query = \"Tell me about AI\"\n",
        "results = vectorstore.similarity_search(query, k=2)"
      ],
      "metadata": {
        "id": "-JR2adQ3I8tS"
      },
      "execution_count": 71,
      "outputs": []
    },
    {
      "cell_type": "code",
      "source": [
        "for doc in results:\n",
        "  print(f'Matching Document:{doc}')"
      ],
      "metadata": {
        "colab": {
          "base_uri": "https://localhost:8080/"
        },
        "id": "EQfkH6HRJDpI",
        "outputId": "4f768c02-d75e-4e58-fcad-c2e1b8e7c807"
      },
      "execution_count": 73,
      "outputs": [
        {
          "output_type": "stream",
          "name": "stdout",
          "text": [
            "Matching Document:page_content='AI.' metadata={'abubakar': 'lakhwera', 'date': '2025-02-28T15:16:38.665702', 'page_no': 1, 'source': 'AI policy'}\n",
            "Matching Document:page_content='the AI shares:' metadata={'abubakar': 'lakhwera', 'date': '2025-02-28T15:16:38.667401', 'page_no': 2, 'source': 'AI policy'}\n"
          ]
        }
      ]
    },
    {
      "cell_type": "markdown",
      "source": [
        "# **pine cone**"
      ],
      "metadata": {
        "id": "ethOyv46KYrR"
      }
    },
    {
      "cell_type": "code",
      "source": [
        "!pip install --quiet langchain_pinecone pinecone"
      ],
      "metadata": {
        "colab": {
          "base_uri": "https://localhost:8080/"
        },
        "id": "WSnCABhgJOnA",
        "outputId": "3189a859-195a-4c71-be95-03fd85b1eaf4"
      },
      "execution_count": 75,
      "outputs": [
        {
          "output_type": "stream",
          "name": "stdout",
          "text": [
            "\u001b[?25l   \u001b[90m━━━━━━━━━━━━━━━━━━━━━━━━━━━━━━━━━━━━━━━━\u001b[0m \u001b[32m0.0/427.3 kB\u001b[0m \u001b[31m?\u001b[0m eta \u001b[36m-:--:--\u001b[0m\r\u001b[2K   \u001b[91m━━━━━━━━━━━━━━━━━━━━━━━━━━━━━━━━━━━━━━━\u001b[0m\u001b[90m╺\u001b[0m \u001b[32m419.8/427.3 kB\u001b[0m \u001b[31m20.9 MB/s\u001b[0m eta \u001b[36m0:00:01\u001b[0m\r\u001b[2K   \u001b[90m━━━━━━━━━━━━━━━━━━━━━━━━━━━━━━━━━━━━━━━━\u001b[0m \u001b[32m427.3/427.3 kB\u001b[0m \u001b[31m11.1 MB/s\u001b[0m eta \u001b[36m0:00:00\u001b[0m\n",
            "\u001b[?25h\u001b[?25l   \u001b[90m━━━━━━━━━━━━━━━━━━━━━━━━━━━━━━━━━━━━━━━━\u001b[0m \u001b[32m0.0/1.3 MB\u001b[0m \u001b[31m?\u001b[0m eta \u001b[36m-:--:--\u001b[0m\r\u001b[2K   \u001b[90m━━━━━━━━━━━━━━━━━━━━━━━━━━━━━━━━━━━━━━━━\u001b[0m \u001b[32m1.3/1.3 MB\u001b[0m \u001b[31m35.8 MB/s\u001b[0m eta \u001b[36m0:00:00\u001b[0m\n",
            "\u001b[2K   \u001b[90m━━━━━━━━━━━━━━━━━━━━━━━━━━━━━━━━━━━━━━━━\u001b[0m \u001b[32m87.5/87.5 kB\u001b[0m \u001b[31m5.6 MB/s\u001b[0m eta \u001b[36m0:00:00\u001b[0m\n",
            "\u001b[2K   \u001b[90m━━━━━━━━━━━━━━━━━━━━━━━━━━━━━━━━━━━━━━━━\u001b[0m \u001b[32m50.5/50.5 kB\u001b[0m \u001b[31m2.8 MB/s\u001b[0m eta \u001b[36m0:00:00\u001b[0m\n",
            "\u001b[?25h"
          ]
        }
      ]
    },
    {
      "cell_type": "code",
      "source": [
        "from langchain_pinecone import PineconeVectorStore as lang_pinecone\n",
        "import os\n",
        "os.environ['PINE_API_KEY ']=PINE_API_KEY"
      ],
      "metadata": {
        "id": "cPAZyj9JKskw"
      },
      "execution_count": null,
      "outputs": []
    },
    {
      "cell_type": "code",
      "source": [
        "vector= lang_pinecone.from_documents(doc_list,embed_model,index_name='ai_policy')"
      ],
      "metadata": {
        "id": "djh8vjRpLYOv"
      },
      "execution_count": null,
      "outputs": []
    },
    {
      "cell_type": "code",
      "source": [
        "query = 'What is ai policy for student?'"
      ],
      "metadata": {
        "id": "ptxgvSkfLczQ"
      },
      "execution_count": null,
      "outputs": []
    },
    {
      "cell_type": "code",
      "source": [
        "pinecone_results"
      ],
      "metadata": {
        "id": "HMeKGJlFLqEH"
      },
      "execution_count": null,
      "outputs": []
    },
    {
      "cell_type": "code",
      "source": [],
      "metadata": {
        "id": "FiKBPJT0Ltbn"
      },
      "execution_count": null,
      "outputs": []
    }
  ]
}